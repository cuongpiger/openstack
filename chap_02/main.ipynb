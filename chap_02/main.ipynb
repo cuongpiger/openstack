{
 "cells": [
  {
   "cell_type": "code",
   "execution_count": 1,
   "metadata": {},
   "outputs": [],
   "source": [
    "import numpy as np\n",
    "from tensorflow.keras.layers import Dense, Dropout, Input\n",
    "from tensorflow.keras.layers import Conv2D, MaxPooling2D, Flatten\n",
    "from tensorflow.keras.models import Model\n",
    "from tensorflow.keras.datasets import mnist\n",
    "from tensorflow.keras.utils import to_categorical"
   ]
  },
  {
   "cell_type": "code",
   "execution_count": 2,
   "metadata": {},
   "outputs": [],
   "source": [
    "# load MNIST dataset\n",
    "(x_train, y_train), (x_test, y_test) = mnist.load_data()"
   ]
  },
  {
   "cell_type": "code",
   "execution_count": 3,
   "metadata": {},
   "outputs": [],
   "source": [
    "# from sparse label to categorical\n",
    "num_labels = len(np.unique(y_train))\n",
    "y_train = to_categorical(y_train)\n",
    "y_test = to_categorical(y_test)"
   ]
  },
  {
   "cell_type": "code",
   "execution_count": 4,
   "metadata": {},
   "outputs": [],
   "source": [
    "# reshape and normalize input images\n",
    "image_size = x_train.shape[1]\n",
    "x_train = np.reshape(x_train,[-1, image_size, image_size, 1])\n",
    "x_test = np.reshape(x_test,[-1, image_size, image_size, 1])\n",
    "x_train = x_train.astype('float32') / 255\n",
    "x_test = x_test.astype('float32') / 255"
   ]
  },
  {
   "cell_type": "code",
   "execution_count": 5,
   "metadata": {},
   "outputs": [
    {
     "data": {
      "text/plain": [
       "(60000, 28, 28, 1)"
      ]
     },
     "execution_count": 5,
     "metadata": {},
     "output_type": "execute_result"
    }
   ],
   "source": [
    "x_train.shape"
   ]
  },
  {
   "cell_type": "code",
   "execution_count": 6,
   "metadata": {},
   "outputs": [],
   "source": [
    "# network parameters\n",
    "input_shape = (image_size, image_size, 1)\n",
    "batch_size = 128\n",
    "kernel_size = 3\n",
    "filters = 64\n",
    "dropout = 0.3"
   ]
  },
  {
   "cell_type": "code",
   "execution_count": 8,
   "metadata": {},
   "outputs": [],
   "source": [
    "# use functional API to build cnn layers\n",
    "inputs = Input(shape=input_shape)\n",
    "\n",
    "y = Conv2D(filters=filters,\n",
    "           kernel_size=kernel_size,\n",
    "           activation='relu')(inputs)\n",
    "y = MaxPooling2D()(y)\n",
    "y = Conv2D(filters=filters,\n",
    "           kernel_size=kernel_size,\n",
    "           activation='relu')(y)\n",
    "y = MaxPooling2D()(y)\n",
    "y = Conv2D(filters=filters,\n",
    "           kernel_size=kernel_size,\n",
    "           activation='relu')(y)\n",
    "\n",
    "# image to vector before connecting to dense layer\n",
    "y = Flatten()(y)\n",
    "# dropout regularization\n",
    "y = Dropout(dropout)(y)\n",
    "\n",
    "outputs = Dense(num_labels, activation='softmax')(y)"
   ]
  },
  {
   "cell_type": "code",
   "execution_count": 9,
   "metadata": {},
   "outputs": [
    {
     "name": "stdout",
     "output_type": "stream",
     "text": [
      "Model: \"model\"\n",
      "_________________________________________________________________\n",
      "Layer (type)                 Output Shape              Param #   \n",
      "=================================================================\n",
      "input_2 (InputLayer)         [(None, 28, 28, 1)]       0         \n",
      "_________________________________________________________________\n",
      "conv2d_3 (Conv2D)            (None, 26, 26, 64)        640       \n",
      "_________________________________________________________________\n",
      "max_pooling2d_2 (MaxPooling2 (None, 13, 13, 64)        0         \n",
      "_________________________________________________________________\n",
      "conv2d_4 (Conv2D)            (None, 11, 11, 64)        36928     \n",
      "_________________________________________________________________\n",
      "max_pooling2d_3 (MaxPooling2 (None, 5, 5, 64)          0         \n",
      "_________________________________________________________________\n",
      "conv2d_5 (Conv2D)            (None, 3, 3, 64)          36928     \n",
      "_________________________________________________________________\n",
      "flatten (Flatten)            (None, 576)               0         \n",
      "_________________________________________________________________\n",
      "dropout (Dropout)            (None, 576)               0         \n",
      "_________________________________________________________________\n",
      "dense (Dense)                (None, 10)                5770      \n",
      "=================================================================\n",
      "Total params: 80,266\n",
      "Trainable params: 80,266\n",
      "Non-trainable params: 0\n",
      "_________________________________________________________________\n"
     ]
    }
   ],
   "source": [
    "# build the model by supplying inputs/outputs\n",
    "model = Model(inputs=inputs, outputs=outputs)\n",
    "# network model in text\n",
    "model.summary()"
   ]
  },
  {
   "cell_type": "code",
   "execution_count": 10,
   "metadata": {},
   "outputs": [],
   "source": [
    "# classifier loss, Adam optimizer, classifier accuracy\n",
    "model.compile(loss='categorical_crossentropy',\n",
    "              optimizer='adam',\n",
    "              metrics=['accuracy'])"
   ]
  },
  {
   "cell_type": "code",
   "execution_count": 11,
   "metadata": {},
   "outputs": [
    {
     "name": "stdout",
     "output_type": "stream",
     "text": [
      "Epoch 1/20\n",
      "469/469 [==============================] - 6s 10ms/step - loss: 0.2871 - accuracy: 0.9122 - val_loss: 0.0608 - val_accuracy: 0.9795\n",
      "Epoch 2/20\n",
      "469/469 [==============================] - 4s 9ms/step - loss: 0.0732 - accuracy: 0.9769 - val_loss: 0.0365 - val_accuracy: 0.9880\n",
      "Epoch 3/20\n",
      "469/469 [==============================] - 4s 8ms/step - loss: 0.0522 - accuracy: 0.9835 - val_loss: 0.0298 - val_accuracy: 0.9894\n",
      "Epoch 4/20\n",
      "469/469 [==============================] - 4s 9ms/step - loss: 0.0430 - accuracy: 0.9863 - val_loss: 0.0270 - val_accuracy: 0.9904\n",
      "Epoch 5/20\n",
      "469/469 [==============================] - 4s 8ms/step - loss: 0.0352 - accuracy: 0.9885 - val_loss: 0.0301 - val_accuracy: 0.9899\n",
      "Epoch 6/20\n",
      "469/469 [==============================] - 4s 8ms/step - loss: 0.0313 - accuracy: 0.9901 - val_loss: 0.0247 - val_accuracy: 0.9922\n",
      "Epoch 7/20\n",
      "469/469 [==============================] - 4s 8ms/step - loss: 0.0285 - accuracy: 0.9908 - val_loss: 0.0254 - val_accuracy: 0.9917\n",
      "Epoch 8/20\n",
      "469/469 [==============================] - 4s 8ms/step - loss: 0.0245 - accuracy: 0.9920 - val_loss: 0.0327 - val_accuracy: 0.9895\n",
      "Epoch 9/20\n",
      "469/469 [==============================] - 4s 8ms/step - loss: 0.0210 - accuracy: 0.9930 - val_loss: 0.0245 - val_accuracy: 0.9925\n",
      "Epoch 10/20\n",
      "469/469 [==============================] - 4s 8ms/step - loss: 0.0205 - accuracy: 0.9936 - val_loss: 0.0231 - val_accuracy: 0.9919\n",
      "Epoch 11/20\n",
      "469/469 [==============================] - 4s 8ms/step - loss: 0.0181 - accuracy: 0.9937 - val_loss: 0.0258 - val_accuracy: 0.9927\n",
      "Epoch 12/20\n",
      "469/469 [==============================] - 4s 8ms/step - loss: 0.0159 - accuracy: 0.9948 - val_loss: 0.0248 - val_accuracy: 0.9923\n",
      "Epoch 13/20\n",
      "469/469 [==============================] - 4s 8ms/step - loss: 0.0138 - accuracy: 0.9954 - val_loss: 0.0265 - val_accuracy: 0.9922\n",
      "Epoch 14/20\n",
      "469/469 [==============================] - 4s 8ms/step - loss: 0.0131 - accuracy: 0.9958 - val_loss: 0.0245 - val_accuracy: 0.9928\n",
      "Epoch 15/20\n",
      "469/469 [==============================] - 4s 9ms/step - loss: 0.0127 - accuracy: 0.9958 - val_loss: 0.0235 - val_accuracy: 0.9936\n",
      "Epoch 16/20\n",
      "469/469 [==============================] - 4s 9ms/step - loss: 0.0118 - accuracy: 0.9961 - val_loss: 0.0251 - val_accuracy: 0.9927\n",
      "Epoch 17/20\n",
      "469/469 [==============================] - 4s 8ms/step - loss: 0.0108 - accuracy: 0.9964 - val_loss: 0.0261 - val_accuracy: 0.9929\n",
      "Epoch 18/20\n",
      "469/469 [==============================] - 4s 9ms/step - loss: 0.0101 - accuracy: 0.9967 - val_loss: 0.0300 - val_accuracy: 0.9924\n",
      "Epoch 19/20\n",
      "469/469 [==============================] - 4s 9ms/step - loss: 0.0092 - accuracy: 0.9970 - val_loss: 0.0284 - val_accuracy: 0.9933\n",
      "Epoch 20/20\n",
      "469/469 [==============================] - 4s 9ms/step - loss: 0.0096 - accuracy: 0.9966 - val_loss: 0.0275 - val_accuracy: 0.9938\n"
     ]
    },
    {
     "data": {
      "text/plain": [
       "<keras.callbacks.History at 0x7f90c098e2b0>"
      ]
     },
     "execution_count": 11,
     "metadata": {},
     "output_type": "execute_result"
    }
   ],
   "source": [
    "# train the model with input images and labels\n",
    "model.fit(x_train, y_train,\n",
    "          validation_data=(x_test, y_test),\n",
    "          epochs=20,\n",
    "          batch_size=batch_size)"
   ]
  },
  {
   "cell_type": "code",
   "execution_count": 12,
   "metadata": {},
   "outputs": [
    {
     "name": "stdout",
     "output_type": "stream",
     "text": [
      "\n",
      "Test accuracy: 99.4%\n"
     ]
    }
   ],
   "source": [
    "# model accuracy on test dataset\n",
    "score = model.evaluate(x_test, y_test,\n",
    "                       batch_size=batch_size,\n",
    "                       verbose=0)\n",
    "\n",
    "print(\"\\nTest accuracy: %.1f%%\" % (100.0 * score[1]))"
   ]
  },
  {
   "cell_type": "code",
   "execution_count": null,
   "metadata": {},
   "outputs": [],
   "source": []
  }
 ],
 "metadata": {
  "interpreter": {
   "hash": "cb8c0d75ba81da144fdbf64f457e481f866e25fd984f3b17a1dee2342c634795"
  },
  "kernelspec": {
   "display_name": "Python 3.6.13 ('naruto')",
   "language": "python",
   "name": "python3"
  },
  "language_info": {
   "codemirror_mode": {
    "name": "ipython",
    "version": 3
   },
   "file_extension": ".py",
   "mimetype": "text/x-python",
   "name": "python",
   "nbconvert_exporter": "python",
   "pygments_lexer": "ipython3",
   "version": "3.6.13"
  },
  "orig_nbformat": 4
 },
 "nbformat": 4,
 "nbformat_minor": 2
}
